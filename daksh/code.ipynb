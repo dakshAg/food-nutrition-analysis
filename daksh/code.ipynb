{
 "cells": [
  {
   "cell_type": "code",
   "execution_count": 129,
   "metadata": {},
   "outputs": [
    {
     "name": "stdout",
     "output_type": "stream",
     "text": [
      "Error processing line 1 of /Library/Frameworks/Python.framework/Versions/3.10/lib/python3.10/site-packages/vision-1.0.0-py3.10-nspkg.pth:\r\n",
      "\r\n",
      "  Traceback (most recent call last):\r\n",
      "    File \"/Library/Frameworks/Python.framework/Versions/3.10/lib/python3.10/site.py\", line 186, in addpackage\r\n",
      "      exec(line)\r\n",
      "    File \"<string>\", line 1, in <module>\r\n",
      "    File \"<frozen importlib._bootstrap>\", line 568, in module_from_spec\r\n",
      "  AttributeError: 'NoneType' object has no attribute 'loader'\r\n",
      "\r\n",
      "Remainder of file ignored\r\n",
      "Requirement already satisfied: pandas in /Library/Frameworks/Python.framework/Versions/3.10/lib/python3.10/site-packages (1.5.3)\r\n",
      "Requirement already satisfied: numpy>=1.21.0 in /Library/Frameworks/Python.framework/Versions/3.10/lib/python3.10/site-packages (from pandas) (1.22.4)\r\n",
      "Requirement already satisfied: pytz>=2020.1 in /Library/Frameworks/Python.framework/Versions/3.10/lib/python3.10/site-packages (from pandas) (2022.7.1)\r\n",
      "Requirement already satisfied: python-dateutil>=2.8.1 in /Library/Frameworks/Python.framework/Versions/3.10/lib/python3.10/site-packages (from pandas) (2.8.2)\r\n",
      "Requirement already satisfied: six>=1.5 in /Library/Frameworks/Python.framework/Versions/3.10/lib/python3.10/site-packages (from python-dateutil>=2.8.1->pandas) (1.16.0)\r\n",
      "\r\n",
      "\u001B[1m[\u001B[0m\u001B[34;49mnotice\u001B[0m\u001B[1;39;49m]\u001B[0m\u001B[39;49m A new release of pip is available: \u001B[0m\u001B[31;49m23.0.1\u001B[0m\u001B[39;49m -> \u001B[0m\u001B[32;49m23.1.2\u001B[0m\r\n",
      "\u001B[1m[\u001B[0m\u001B[34;49mnotice\u001B[0m\u001B[1;39;49m]\u001B[0m\u001B[39;49m To update, run: \u001B[0m\u001B[32;49mpython3.10 -m pip install --upgrade pip\u001B[0m\r\n",
      "Error processing line 1 of /Library/Frameworks/Python.framework/Versions/3.10/lib/python3.10/site-packages/vision-1.0.0-py3.10-nspkg.pth:\r\n",
      "\r\n",
      "  Traceback (most recent call last):\r\n",
      "    File \"/Library/Frameworks/Python.framework/Versions/3.10/lib/python3.10/site.py\", line 186, in addpackage\r\n",
      "      exec(line)\r\n",
      "    File \"<string>\", line 1, in <module>\r\n",
      "    File \"<frozen importlib._bootstrap>\", line 568, in module_from_spec\r\n",
      "  AttributeError: 'NoneType' object has no attribute 'loader'\r\n",
      "\r\n",
      "Remainder of file ignored\r\n",
      "Requirement already satisfied: scikit-learn in /Library/Frameworks/Python.framework/Versions/3.10/lib/python3.10/site-packages (1.2.2)\r\n",
      "Requirement already satisfied: numpy>=1.17.3 in /Library/Frameworks/Python.framework/Versions/3.10/lib/python3.10/site-packages (from scikit-learn) (1.22.4)\r\n",
      "Requirement already satisfied: threadpoolctl>=2.0.0 in /Library/Frameworks/Python.framework/Versions/3.10/lib/python3.10/site-packages (from scikit-learn) (3.1.0)\r\n",
      "Requirement already satisfied: joblib>=1.1.1 in /Library/Frameworks/Python.framework/Versions/3.10/lib/python3.10/site-packages (from scikit-learn) (1.2.0)\r\n",
      "Requirement already satisfied: scipy>=1.3.2 in /Library/Frameworks/Python.framework/Versions/3.10/lib/python3.10/site-packages (from scikit-learn) (1.10.1)\r\n",
      "\r\n",
      "\u001B[1m[\u001B[0m\u001B[34;49mnotice\u001B[0m\u001B[1;39;49m]\u001B[0m\u001B[39;49m A new release of pip is available: \u001B[0m\u001B[31;49m23.0.1\u001B[0m\u001B[39;49m -> \u001B[0m\u001B[32;49m23.1.2\u001B[0m\r\n",
      "\u001B[1m[\u001B[0m\u001B[34;49mnotice\u001B[0m\u001B[1;39;49m]\u001B[0m\u001B[39;49m To update, run: \u001B[0m\u001B[32;49mpython3.10 -m pip install --upgrade pip\u001B[0m\r\n",
      "Error processing line 1 of /Library/Frameworks/Python.framework/Versions/3.10/lib/python3.10/site-packages/vision-1.0.0-py3.10-nspkg.pth:\r\n",
      "\r\n",
      "  Traceback (most recent call last):\r\n",
      "    File \"/Library/Frameworks/Python.framework/Versions/3.10/lib/python3.10/site.py\", line 186, in addpackage\r\n",
      "      exec(line)\r\n",
      "    File \"<string>\", line 1, in <module>\r\n",
      "    File \"<frozen importlib._bootstrap>\", line 568, in module_from_spec\r\n",
      "  AttributeError: 'NoneType' object has no attribute 'loader'\r\n",
      "\r\n",
      "Remainder of file ignored\r\n",
      "Requirement already satisfied: seaborn in /Library/Frameworks/Python.framework/Versions/3.10/lib/python3.10/site-packages (0.12.2)\r\n",
      "Requirement already satisfied: pandas>=0.25 in /Library/Frameworks/Python.framework/Versions/3.10/lib/python3.10/site-packages (from seaborn) (1.5.3)\r\n",
      "Requirement already satisfied: matplotlib!=3.6.1,>=3.1 in /Library/Frameworks/Python.framework/Versions/3.10/lib/python3.10/site-packages (from seaborn) (3.6.0rc2)\r\n",
      "Requirement already satisfied: numpy!=1.24.0,>=1.17 in /Library/Frameworks/Python.framework/Versions/3.10/lib/python3.10/site-packages (from seaborn) (1.22.4)\r\n",
      "Requirement already satisfied: packaging>=20.0 in /Library/Frameworks/Python.framework/Versions/3.10/lib/python3.10/site-packages (from matplotlib!=3.6.1,>=3.1->seaborn) (21.3)\r\n",
      "Requirement already satisfied: fonttools>=4.22.0 in /Library/Frameworks/Python.framework/Versions/3.10/lib/python3.10/site-packages (from matplotlib!=3.6.1,>=3.1->seaborn) (4.33.3)\r\n",
      "Requirement already satisfied: cycler>=0.10 in /Library/Frameworks/Python.framework/Versions/3.10/lib/python3.10/site-packages (from matplotlib!=3.6.1,>=3.1->seaborn) (0.11.0)\r\n",
      "Requirement already satisfied: kiwisolver>=1.0.1 in /Library/Frameworks/Python.framework/Versions/3.10/lib/python3.10/site-packages (from matplotlib!=3.6.1,>=3.1->seaborn) (1.4.3)\r\n",
      "Requirement already satisfied: pillow>=6.2.0 in /Library/Frameworks/Python.framework/Versions/3.10/lib/python3.10/site-packages (from matplotlib!=3.6.1,>=3.1->seaborn) (9.1.1)\r\n",
      "Requirement already satisfied: python-dateutil>=2.7 in /Library/Frameworks/Python.framework/Versions/3.10/lib/python3.10/site-packages (from matplotlib!=3.6.1,>=3.1->seaborn) (2.8.2)\r\n",
      "Requirement already satisfied: pyparsing>=2.2.1 in /Library/Frameworks/Python.framework/Versions/3.10/lib/python3.10/site-packages (from matplotlib!=3.6.1,>=3.1->seaborn) (3.0.9)\r\n",
      "Requirement already satisfied: contourpy>=1.0.1 in /Library/Frameworks/Python.framework/Versions/3.10/lib/python3.10/site-packages (from matplotlib!=3.6.1,>=3.1->seaborn) (1.0.5)\r\n",
      "Requirement already satisfied: pytz>=2020.1 in /Library/Frameworks/Python.framework/Versions/3.10/lib/python3.10/site-packages (from pandas>=0.25->seaborn) (2022.7.1)\r\n",
      "Requirement already satisfied: six>=1.5 in /Library/Frameworks/Python.framework/Versions/3.10/lib/python3.10/site-packages (from python-dateutil>=2.7->matplotlib!=3.6.1,>=3.1->seaborn) (1.16.0)\r\n",
      "\r\n",
      "\u001B[1m[\u001B[0m\u001B[34;49mnotice\u001B[0m\u001B[1;39;49m]\u001B[0m\u001B[39;49m A new release of pip is available: \u001B[0m\u001B[31;49m23.0.1\u001B[0m\u001B[39;49m -> \u001B[0m\u001B[32;49m23.1.2\u001B[0m\r\n",
      "\u001B[1m[\u001B[0m\u001B[34;49mnotice\u001B[0m\u001B[1;39;49m]\u001B[0m\u001B[39;49m To update, run: \u001B[0m\u001B[32;49mpython3.10 -m pip install --upgrade pip\u001B[0m\r\n",
      "Error processing line 1 of /Library/Frameworks/Python.framework/Versions/3.10/lib/python3.10/site-packages/vision-1.0.0-py3.10-nspkg.pth:\r\n",
      "\r\n",
      "  Traceback (most recent call last):\r\n",
      "    File \"/Library/Frameworks/Python.framework/Versions/3.10/lib/python3.10/site.py\", line 186, in addpackage\r\n",
      "      exec(line)\r\n",
      "    File \"<string>\", line 1, in <module>\r\n",
      "    File \"<frozen importlib._bootstrap>\", line 568, in module_from_spec\r\n",
      "  AttributeError: 'NoneType' object has no attribute 'loader'\r\n",
      "\r\n",
      "Remainder of file ignored\r\n",
      "Requirement already satisfied: matplotlib in /Library/Frameworks/Python.framework/Versions/3.10/lib/python3.10/site-packages (3.6.0rc2)\r\n",
      "Requirement already satisfied: python-dateutil>=2.7 in /Library/Frameworks/Python.framework/Versions/3.10/lib/python3.10/site-packages (from matplotlib) (2.8.2)\r\n",
      "Requirement already satisfied: kiwisolver>=1.0.1 in /Library/Frameworks/Python.framework/Versions/3.10/lib/python3.10/site-packages (from matplotlib) (1.4.3)\r\n",
      "Requirement already satisfied: packaging>=20.0 in /Library/Frameworks/Python.framework/Versions/3.10/lib/python3.10/site-packages (from matplotlib) (21.3)\r\n",
      "Requirement already satisfied: numpy>=1.19 in /Library/Frameworks/Python.framework/Versions/3.10/lib/python3.10/site-packages (from matplotlib) (1.22.4)\r\n",
      "Requirement already satisfied: fonttools>=4.22.0 in /Library/Frameworks/Python.framework/Versions/3.10/lib/python3.10/site-packages (from matplotlib) (4.33.3)\r\n",
      "Requirement already satisfied: pillow>=6.2.0 in /Library/Frameworks/Python.framework/Versions/3.10/lib/python3.10/site-packages (from matplotlib) (9.1.1)\r\n",
      "Requirement already satisfied: contourpy>=1.0.1 in /Library/Frameworks/Python.framework/Versions/3.10/lib/python3.10/site-packages (from matplotlib) (1.0.5)\r\n",
      "Requirement already satisfied: pyparsing>=2.2.1 in /Library/Frameworks/Python.framework/Versions/3.10/lib/python3.10/site-packages (from matplotlib) (3.0.9)\r\n",
      "Requirement already satisfied: cycler>=0.10 in /Library/Frameworks/Python.framework/Versions/3.10/lib/python3.10/site-packages (from matplotlib) (0.11.0)\r\n",
      "Requirement already satisfied: six>=1.5 in /Library/Frameworks/Python.framework/Versions/3.10/lib/python3.10/site-packages (from python-dateutil>=2.7->matplotlib) (1.16.0)\r\n",
      "\r\n",
      "\u001B[1m[\u001B[0m\u001B[34;49mnotice\u001B[0m\u001B[1;39;49m]\u001B[0m\u001B[39;49m A new release of pip is available: \u001B[0m\u001B[31;49m23.0.1\u001B[0m\u001B[39;49m -> \u001B[0m\u001B[32;49m23.1.2\u001B[0m\r\n",
      "\u001B[1m[\u001B[0m\u001B[34;49mnotice\u001B[0m\u001B[1;39;49m]\u001B[0m\u001B[39;49m To update, run: \u001B[0m\u001B[32;49mpython3.10 -m pip install --upgrade pip\u001B[0m\r\n"
     ]
    }
   ],
   "source": [
    "!pip3 install pandas\n",
    "!pip3 install -U scikit-learn\n",
    "!pip3 install seaborn\n",
    "!pip3 install matplotlib"
   ]
  },
  {
   "cell_type": "code",
   "execution_count": 130,
   "metadata": {},
   "outputs": [
    {
     "data": {
      "text/plain": "  Public Food Key  Classification                      Food Name  \\\n0         F002258         31302.0   Cardamom seed, dried, ground   \n1         F002893         31302.0  Chilli (chili), dried, ground   \n2         F002963         31302.0        Cinnamon, dried, ground   \n3         F002970         31302.0          Cloves, dried, ground   \n4         F003190         31302.0  Coriander seed, dried, ground   \n\n   Energy with dietary fibre, equated \\n(kJ)  \\\n0                                       1236   \n1                                       1280   \n2                                       1004   \n3                                       1389   \n4                                       1344   \n\n   Energy, without dietary fibre, equated \\n(kJ)  Moisture (water) \\n(g)  \\\n0                                           1012                     8.3   \n1                                           1002                    10.8   \n2                                            579                    10.6   \n3                                           1118                     9.9   \n4                                           1009                     8.9   \n\n   Protein \\n(g)  Nitrogen \\n(g)  Fat, total \\n(g)  Ash \\n(g)  ...  \\\n0           10.8            1.72               6.7        5.8  ...   \n1           13.4            2.14              14.3       11.8  ...   \n2            4.0            0.64               1.2        3.6  ...   \n3            6.0            0.96              13.0        5.6  ...   \n4           12.4            1.98              17.8        6.0  ...   \n\n   Serine \\n(mg)  Threonine \\n(mg)  Tyrosine \\n(mg)  Tryptophan \\n(mg)  \\\n0            NaN               NaN              NaN                155   \n1            NaN               NaN              NaN                 69   \n2            NaN               NaN              NaN                 49   \n3            NaN               NaN              NaN                 30   \n4            NaN               NaN              NaN                178   \n\n   Valine \\n(mg)  Unnamed: 293  Unnamed: 294  Unnamed: 295  Unnamed: 296  \\\n0            NaN           NaN           NaN           NaN           NaN   \n1            NaN           NaN           NaN           NaN           NaN   \n2            NaN           NaN           NaN           NaN           NaN   \n3            NaN           NaN           NaN           NaN           NaN   \n4            NaN           NaN           NaN           NaN           NaN   \n\n   Unnamed: 297  \n0           NaN  \n1           NaN  \n2           NaN  \n3           NaN  \n4           NaN  \n\n[5 rows x 298 columns]",
      "text/html": "<div>\n<style scoped>\n    .dataframe tbody tr th:only-of-type {\n        vertical-align: middle;\n    }\n\n    .dataframe tbody tr th {\n        vertical-align: top;\n    }\n\n    .dataframe thead th {\n        text-align: right;\n    }\n</style>\n<table border=\"1\" class=\"dataframe\">\n  <thead>\n    <tr style=\"text-align: right;\">\n      <th></th>\n      <th>Public Food Key</th>\n      <th>Classification</th>\n      <th>Food Name</th>\n      <th>Energy with dietary fibre, equated \\n(kJ)</th>\n      <th>Energy, without dietary fibre, equated \\n(kJ)</th>\n      <th>Moisture (water) \\n(g)</th>\n      <th>Protein \\n(g)</th>\n      <th>Nitrogen \\n(g)</th>\n      <th>Fat, total \\n(g)</th>\n      <th>Ash \\n(g)</th>\n      <th>...</th>\n      <th>Serine \\n(mg)</th>\n      <th>Threonine \\n(mg)</th>\n      <th>Tyrosine \\n(mg)</th>\n      <th>Tryptophan \\n(mg)</th>\n      <th>Valine \\n(mg)</th>\n      <th>Unnamed: 293</th>\n      <th>Unnamed: 294</th>\n      <th>Unnamed: 295</th>\n      <th>Unnamed: 296</th>\n      <th>Unnamed: 297</th>\n    </tr>\n  </thead>\n  <tbody>\n    <tr>\n      <th>0</th>\n      <td>F002258</td>\n      <td>31302.0</td>\n      <td>Cardamom seed, dried, ground</td>\n      <td>1236</td>\n      <td>1012</td>\n      <td>8.3</td>\n      <td>10.8</td>\n      <td>1.72</td>\n      <td>6.7</td>\n      <td>5.8</td>\n      <td>...</td>\n      <td>NaN</td>\n      <td>NaN</td>\n      <td>NaN</td>\n      <td>155</td>\n      <td>NaN</td>\n      <td>NaN</td>\n      <td>NaN</td>\n      <td>NaN</td>\n      <td>NaN</td>\n      <td>NaN</td>\n    </tr>\n    <tr>\n      <th>1</th>\n      <td>F002893</td>\n      <td>31302.0</td>\n      <td>Chilli (chili), dried, ground</td>\n      <td>1280</td>\n      <td>1002</td>\n      <td>10.8</td>\n      <td>13.4</td>\n      <td>2.14</td>\n      <td>14.3</td>\n      <td>11.8</td>\n      <td>...</td>\n      <td>NaN</td>\n      <td>NaN</td>\n      <td>NaN</td>\n      <td>69</td>\n      <td>NaN</td>\n      <td>NaN</td>\n      <td>NaN</td>\n      <td>NaN</td>\n      <td>NaN</td>\n      <td>NaN</td>\n    </tr>\n    <tr>\n      <th>2</th>\n      <td>F002963</td>\n      <td>31302.0</td>\n      <td>Cinnamon, dried, ground</td>\n      <td>1004</td>\n      <td>579</td>\n      <td>10.6</td>\n      <td>4.0</td>\n      <td>0.64</td>\n      <td>1.2</td>\n      <td>3.6</td>\n      <td>...</td>\n      <td>NaN</td>\n      <td>NaN</td>\n      <td>NaN</td>\n      <td>49</td>\n      <td>NaN</td>\n      <td>NaN</td>\n      <td>NaN</td>\n      <td>NaN</td>\n      <td>NaN</td>\n      <td>NaN</td>\n    </tr>\n    <tr>\n      <th>3</th>\n      <td>F002970</td>\n      <td>31302.0</td>\n      <td>Cloves, dried, ground</td>\n      <td>1389</td>\n      <td>1118</td>\n      <td>9.9</td>\n      <td>6.0</td>\n      <td>0.96</td>\n      <td>13.0</td>\n      <td>5.6</td>\n      <td>...</td>\n      <td>NaN</td>\n      <td>NaN</td>\n      <td>NaN</td>\n      <td>30</td>\n      <td>NaN</td>\n      <td>NaN</td>\n      <td>NaN</td>\n      <td>NaN</td>\n      <td>NaN</td>\n      <td>NaN</td>\n    </tr>\n    <tr>\n      <th>4</th>\n      <td>F003190</td>\n      <td>31302.0</td>\n      <td>Coriander seed, dried, ground</td>\n      <td>1344</td>\n      <td>1009</td>\n      <td>8.9</td>\n      <td>12.4</td>\n      <td>1.98</td>\n      <td>17.8</td>\n      <td>6.0</td>\n      <td>...</td>\n      <td>NaN</td>\n      <td>NaN</td>\n      <td>NaN</td>\n      <td>178</td>\n      <td>NaN</td>\n      <td>NaN</td>\n      <td>NaN</td>\n      <td>NaN</td>\n      <td>NaN</td>\n      <td>NaN</td>\n    </tr>\n  </tbody>\n</table>\n<p>5 rows × 298 columns</p>\n</div>"
     },
     "execution_count": 130,
     "metadata": {},
     "output_type": "execute_result"
    }
   ],
   "source": [
    "import pandas as pd\n",
    "\n",
    "df = pd.read_csv('data.csv', thousands=',')\n",
    "df.head()"
   ]
  },
  {
   "cell_type": "code",
   "execution_count": 131,
   "metadata": {},
   "outputs": [
    {
     "data": {
      "text/plain": "       Classification  Energy with dietary fibre, equated \\n(kJ)  \\\ncount     1614.000000                                1616.000000   \nmean     18760.882900                                 845.643564   \nstd       5062.646828                                 702.908930   \nmin         20.000000                                   0.000000   \n25%      15101.000000                                 306.750000   \n50%      18102.000000                                 662.500000   \n75%      23107.000000                                1214.500000   \nmax      34101.000000                                3703.000000   \n\n       Energy, without dietary fibre, equated \\n(kJ)  Moisture (water) \\n(g)  \\\ncount                                    1616.000000             1616.000000   \nmean                                      823.602723               57.143193   \nstd                                       696.848908               29.319870   \nmin                                         0.000000                0.000000   \n25%                                       294.750000               34.700000   \n50%                                       658.500000               65.200000   \n75%                                      1154.000000               79.600000   \nmax                                      3703.000000              100.000000   \n\n       Protein \\n(g)  Nitrogen \\n(g)  Fat, total \\n(g)    Ash \\n(g)  \\\ncount    1616.000000     1616.000000       1616.000000  1616.000000   \nmean       12.439233        2.012735          9.495730     1.874876   \nstd        11.278716        1.821698         16.903693     5.122109   \nmin         0.000000        0.000000          0.000000     0.000000   \n25%         2.175000        0.340000          0.400000     0.700000   \n50%         9.350000        1.550000          3.000000     1.200000   \n75%        21.900000        3.510000         10.200000     1.800000   \nmax        85.000000       15.200000        100.000000    99.800000   \n\n       Total dietary fibre \\n(g)  Alcohol \\n(g)  ...  Serine \\n(mg)  \\\ncount                1616.000000    1616.000000  ...     181.000000   \nmean                    2.676980       0.179827  ...     482.254144   \nstd                     5.970007       1.633011  ...     556.262340   \nmin                     0.000000       0.000000  ...      10.000000   \n25%                     0.000000       0.000000  ...      67.000000   \n50%                     0.500000       0.000000  ...     159.000000   \n75%                     3.000000       0.000000  ...     852.000000   \nmax                    88.700000      34.400000  ...    3830.000000   \n\n       Threonine \\n(mg)  Tyrosine \\n(mg)  Tryptophan \\n(mg)  Valine \\n(mg)  \\\ncount        181.000000       181.000000        1616.000000     181.000000   \nmean         453.276243       329.950276         124.447401     532.000000   \nstd          514.990141       372.714745         112.338987     591.124644   \nmin            9.000000         5.000000           0.000000      10.000000   \n25%           53.000000        38.000000          21.000000      64.000000   \n50%          126.000000       103.000000          97.000000     186.000000   \n75%          918.000000       654.000000         211.250000    1029.000000   \nmax         2082.000000      1685.000000         795.000000    2645.000000   \n\n       Unnamed: 293  Unnamed: 294  Unnamed: 295  Unnamed: 296  Unnamed: 297  \ncount           0.0           0.0           0.0           0.0           0.0  \nmean            NaN           NaN           NaN           NaN           NaN  \nstd             NaN           NaN           NaN           NaN           NaN  \nmin             NaN           NaN           NaN           NaN           NaN  \n25%             NaN           NaN           NaN           NaN           NaN  \n50%             NaN           NaN           NaN           NaN           NaN  \n75%             NaN           NaN           NaN           NaN           NaN  \nmax             NaN           NaN           NaN           NaN           NaN  \n\n[8 rows x 296 columns]",
      "text/html": "<div>\n<style scoped>\n    .dataframe tbody tr th:only-of-type {\n        vertical-align: middle;\n    }\n\n    .dataframe tbody tr th {\n        vertical-align: top;\n    }\n\n    .dataframe thead th {\n        text-align: right;\n    }\n</style>\n<table border=\"1\" class=\"dataframe\">\n  <thead>\n    <tr style=\"text-align: right;\">\n      <th></th>\n      <th>Classification</th>\n      <th>Energy with dietary fibre, equated \\n(kJ)</th>\n      <th>Energy, without dietary fibre, equated \\n(kJ)</th>\n      <th>Moisture (water) \\n(g)</th>\n      <th>Protein \\n(g)</th>\n      <th>Nitrogen \\n(g)</th>\n      <th>Fat, total \\n(g)</th>\n      <th>Ash \\n(g)</th>\n      <th>Total dietary fibre \\n(g)</th>\n      <th>Alcohol \\n(g)</th>\n      <th>...</th>\n      <th>Serine \\n(mg)</th>\n      <th>Threonine \\n(mg)</th>\n      <th>Tyrosine \\n(mg)</th>\n      <th>Tryptophan \\n(mg)</th>\n      <th>Valine \\n(mg)</th>\n      <th>Unnamed: 293</th>\n      <th>Unnamed: 294</th>\n      <th>Unnamed: 295</th>\n      <th>Unnamed: 296</th>\n      <th>Unnamed: 297</th>\n    </tr>\n  </thead>\n  <tbody>\n    <tr>\n      <th>count</th>\n      <td>1614.000000</td>\n      <td>1616.000000</td>\n      <td>1616.000000</td>\n      <td>1616.000000</td>\n      <td>1616.000000</td>\n      <td>1616.000000</td>\n      <td>1616.000000</td>\n      <td>1616.000000</td>\n      <td>1616.000000</td>\n      <td>1616.000000</td>\n      <td>...</td>\n      <td>181.000000</td>\n      <td>181.000000</td>\n      <td>181.000000</td>\n      <td>1616.000000</td>\n      <td>181.000000</td>\n      <td>0.0</td>\n      <td>0.0</td>\n      <td>0.0</td>\n      <td>0.0</td>\n      <td>0.0</td>\n    </tr>\n    <tr>\n      <th>mean</th>\n      <td>18760.882900</td>\n      <td>845.643564</td>\n      <td>823.602723</td>\n      <td>57.143193</td>\n      <td>12.439233</td>\n      <td>2.012735</td>\n      <td>9.495730</td>\n      <td>1.874876</td>\n      <td>2.676980</td>\n      <td>0.179827</td>\n      <td>...</td>\n      <td>482.254144</td>\n      <td>453.276243</td>\n      <td>329.950276</td>\n      <td>124.447401</td>\n      <td>532.000000</td>\n      <td>NaN</td>\n      <td>NaN</td>\n      <td>NaN</td>\n      <td>NaN</td>\n      <td>NaN</td>\n    </tr>\n    <tr>\n      <th>std</th>\n      <td>5062.646828</td>\n      <td>702.908930</td>\n      <td>696.848908</td>\n      <td>29.319870</td>\n      <td>11.278716</td>\n      <td>1.821698</td>\n      <td>16.903693</td>\n      <td>5.122109</td>\n      <td>5.970007</td>\n      <td>1.633011</td>\n      <td>...</td>\n      <td>556.262340</td>\n      <td>514.990141</td>\n      <td>372.714745</td>\n      <td>112.338987</td>\n      <td>591.124644</td>\n      <td>NaN</td>\n      <td>NaN</td>\n      <td>NaN</td>\n      <td>NaN</td>\n      <td>NaN</td>\n    </tr>\n    <tr>\n      <th>min</th>\n      <td>20.000000</td>\n      <td>0.000000</td>\n      <td>0.000000</td>\n      <td>0.000000</td>\n      <td>0.000000</td>\n      <td>0.000000</td>\n      <td>0.000000</td>\n      <td>0.000000</td>\n      <td>0.000000</td>\n      <td>0.000000</td>\n      <td>...</td>\n      <td>10.000000</td>\n      <td>9.000000</td>\n      <td>5.000000</td>\n      <td>0.000000</td>\n      <td>10.000000</td>\n      <td>NaN</td>\n      <td>NaN</td>\n      <td>NaN</td>\n      <td>NaN</td>\n      <td>NaN</td>\n    </tr>\n    <tr>\n      <th>25%</th>\n      <td>15101.000000</td>\n      <td>306.750000</td>\n      <td>294.750000</td>\n      <td>34.700000</td>\n      <td>2.175000</td>\n      <td>0.340000</td>\n      <td>0.400000</td>\n      <td>0.700000</td>\n      <td>0.000000</td>\n      <td>0.000000</td>\n      <td>...</td>\n      <td>67.000000</td>\n      <td>53.000000</td>\n      <td>38.000000</td>\n      <td>21.000000</td>\n      <td>64.000000</td>\n      <td>NaN</td>\n      <td>NaN</td>\n      <td>NaN</td>\n      <td>NaN</td>\n      <td>NaN</td>\n    </tr>\n    <tr>\n      <th>50%</th>\n      <td>18102.000000</td>\n      <td>662.500000</td>\n      <td>658.500000</td>\n      <td>65.200000</td>\n      <td>9.350000</td>\n      <td>1.550000</td>\n      <td>3.000000</td>\n      <td>1.200000</td>\n      <td>0.500000</td>\n      <td>0.000000</td>\n      <td>...</td>\n      <td>159.000000</td>\n      <td>126.000000</td>\n      <td>103.000000</td>\n      <td>97.000000</td>\n      <td>186.000000</td>\n      <td>NaN</td>\n      <td>NaN</td>\n      <td>NaN</td>\n      <td>NaN</td>\n      <td>NaN</td>\n    </tr>\n    <tr>\n      <th>75%</th>\n      <td>23107.000000</td>\n      <td>1214.500000</td>\n      <td>1154.000000</td>\n      <td>79.600000</td>\n      <td>21.900000</td>\n      <td>3.510000</td>\n      <td>10.200000</td>\n      <td>1.800000</td>\n      <td>3.000000</td>\n      <td>0.000000</td>\n      <td>...</td>\n      <td>852.000000</td>\n      <td>918.000000</td>\n      <td>654.000000</td>\n      <td>211.250000</td>\n      <td>1029.000000</td>\n      <td>NaN</td>\n      <td>NaN</td>\n      <td>NaN</td>\n      <td>NaN</td>\n      <td>NaN</td>\n    </tr>\n    <tr>\n      <th>max</th>\n      <td>34101.000000</td>\n      <td>3703.000000</td>\n      <td>3703.000000</td>\n      <td>100.000000</td>\n      <td>85.000000</td>\n      <td>15.200000</td>\n      <td>100.000000</td>\n      <td>99.800000</td>\n      <td>88.700000</td>\n      <td>34.400000</td>\n      <td>...</td>\n      <td>3830.000000</td>\n      <td>2082.000000</td>\n      <td>1685.000000</td>\n      <td>795.000000</td>\n      <td>2645.000000</td>\n      <td>NaN</td>\n      <td>NaN</td>\n      <td>NaN</td>\n      <td>NaN</td>\n      <td>NaN</td>\n    </tr>\n  </tbody>\n</table>\n<p>8 rows × 296 columns</p>\n</div>"
     },
     "execution_count": 131,
     "metadata": {},
     "output_type": "execute_result"
    }
   ],
   "source": [
    "df.describe()"
   ]
  },
  {
   "attachments": {},
   "cell_type": "markdown",
   "metadata": {},
   "source": [
    "## Data Cleaning - Daksh\n",
    "Some issues with current data that need to be resolved before processing:\n",
    "- 5 Empty Columns at the End."
   ]
  },
  {
   "cell_type": "code",
   "execution_count": 132,
   "metadata": {},
   "outputs": [
    {
     "data": {
      "text/plain": "  Public Food Key  Classification                      Food Name  \\\n0         F002258         31302.0   Cardamom seed, dried, ground   \n1         F002893         31302.0  Chilli (chili), dried, ground   \n2         F002963         31302.0        Cinnamon, dried, ground   \n3         F002970         31302.0          Cloves, dried, ground   \n4         F003190         31302.0  Coriander seed, dried, ground   \n\n   Energy with dietary fibre, equated \\n(kJ)  \\\n0                                       1236   \n1                                       1280   \n2                                       1004   \n3                                       1389   \n4                                       1344   \n\n   Energy, without dietary fibre, equated \\n(kJ)  Moisture (water) \\n(g)  \\\n0                                           1012                     8.3   \n1                                           1002                    10.8   \n2                                            579                    10.6   \n3                                           1118                     9.9   \n4                                           1009                     8.9   \n\n   Protein \\n(g)  Nitrogen \\n(g)  Fat, total \\n(g)  Ash \\n(g)  ...  \\\n0           10.8            1.72               6.7        5.8  ...   \n1           13.4            2.14              14.3       11.8  ...   \n2            4.0            0.64               1.2        3.6  ...   \n3            6.0            0.96              13.0        5.6  ...   \n4           12.4            1.98              17.8        6.0  ...   \n\n   Leucine \\n(mg)  Lysine \\n(mg)  Methionine \\n(mg)  Phenylalanine \\n(mg)  \\\n0             NaN            NaN                NaN                   NaN   \n1             NaN            NaN                NaN                   NaN   \n2             NaN            NaN                NaN                   NaN   \n3             NaN            NaN                NaN                   NaN   \n4             NaN            NaN                NaN                   NaN   \n\n   Proline \\n(mg)  Serine \\n(mg)  Threonine \\n(mg)  Tyrosine \\n(mg)  \\\n0             NaN            NaN               NaN              NaN   \n1             NaN            NaN               NaN              NaN   \n2             NaN            NaN               NaN              NaN   \n3             NaN            NaN               NaN              NaN   \n4             NaN            NaN               NaN              NaN   \n\n   Tryptophan \\n(mg)  Valine \\n(mg)  \n0                155            NaN  \n1                 69            NaN  \n2                 49            NaN  \n3                 30            NaN  \n4                178            NaN  \n\n[5 rows x 293 columns]",
      "text/html": "<div>\n<style scoped>\n    .dataframe tbody tr th:only-of-type {\n        vertical-align: middle;\n    }\n\n    .dataframe tbody tr th {\n        vertical-align: top;\n    }\n\n    .dataframe thead th {\n        text-align: right;\n    }\n</style>\n<table border=\"1\" class=\"dataframe\">\n  <thead>\n    <tr style=\"text-align: right;\">\n      <th></th>\n      <th>Public Food Key</th>\n      <th>Classification</th>\n      <th>Food Name</th>\n      <th>Energy with dietary fibre, equated \\n(kJ)</th>\n      <th>Energy, without dietary fibre, equated \\n(kJ)</th>\n      <th>Moisture (water) \\n(g)</th>\n      <th>Protein \\n(g)</th>\n      <th>Nitrogen \\n(g)</th>\n      <th>Fat, total \\n(g)</th>\n      <th>Ash \\n(g)</th>\n      <th>...</th>\n      <th>Leucine \\n(mg)</th>\n      <th>Lysine \\n(mg)</th>\n      <th>Methionine \\n(mg)</th>\n      <th>Phenylalanine \\n(mg)</th>\n      <th>Proline \\n(mg)</th>\n      <th>Serine \\n(mg)</th>\n      <th>Threonine \\n(mg)</th>\n      <th>Tyrosine \\n(mg)</th>\n      <th>Tryptophan \\n(mg)</th>\n      <th>Valine \\n(mg)</th>\n    </tr>\n  </thead>\n  <tbody>\n    <tr>\n      <th>0</th>\n      <td>F002258</td>\n      <td>31302.0</td>\n      <td>Cardamom seed, dried, ground</td>\n      <td>1236</td>\n      <td>1012</td>\n      <td>8.3</td>\n      <td>10.8</td>\n      <td>1.72</td>\n      <td>6.7</td>\n      <td>5.8</td>\n      <td>...</td>\n      <td>NaN</td>\n      <td>NaN</td>\n      <td>NaN</td>\n      <td>NaN</td>\n      <td>NaN</td>\n      <td>NaN</td>\n      <td>NaN</td>\n      <td>NaN</td>\n      <td>155</td>\n      <td>NaN</td>\n    </tr>\n    <tr>\n      <th>1</th>\n      <td>F002893</td>\n      <td>31302.0</td>\n      <td>Chilli (chili), dried, ground</td>\n      <td>1280</td>\n      <td>1002</td>\n      <td>10.8</td>\n      <td>13.4</td>\n      <td>2.14</td>\n      <td>14.3</td>\n      <td>11.8</td>\n      <td>...</td>\n      <td>NaN</td>\n      <td>NaN</td>\n      <td>NaN</td>\n      <td>NaN</td>\n      <td>NaN</td>\n      <td>NaN</td>\n      <td>NaN</td>\n      <td>NaN</td>\n      <td>69</td>\n      <td>NaN</td>\n    </tr>\n    <tr>\n      <th>2</th>\n      <td>F002963</td>\n      <td>31302.0</td>\n      <td>Cinnamon, dried, ground</td>\n      <td>1004</td>\n      <td>579</td>\n      <td>10.6</td>\n      <td>4.0</td>\n      <td>0.64</td>\n      <td>1.2</td>\n      <td>3.6</td>\n      <td>...</td>\n      <td>NaN</td>\n      <td>NaN</td>\n      <td>NaN</td>\n      <td>NaN</td>\n      <td>NaN</td>\n      <td>NaN</td>\n      <td>NaN</td>\n      <td>NaN</td>\n      <td>49</td>\n      <td>NaN</td>\n    </tr>\n    <tr>\n      <th>3</th>\n      <td>F002970</td>\n      <td>31302.0</td>\n      <td>Cloves, dried, ground</td>\n      <td>1389</td>\n      <td>1118</td>\n      <td>9.9</td>\n      <td>6.0</td>\n      <td>0.96</td>\n      <td>13.0</td>\n      <td>5.6</td>\n      <td>...</td>\n      <td>NaN</td>\n      <td>NaN</td>\n      <td>NaN</td>\n      <td>NaN</td>\n      <td>NaN</td>\n      <td>NaN</td>\n      <td>NaN</td>\n      <td>NaN</td>\n      <td>30</td>\n      <td>NaN</td>\n    </tr>\n    <tr>\n      <th>4</th>\n      <td>F003190</td>\n      <td>31302.0</td>\n      <td>Coriander seed, dried, ground</td>\n      <td>1344</td>\n      <td>1009</td>\n      <td>8.9</td>\n      <td>12.4</td>\n      <td>1.98</td>\n      <td>17.8</td>\n      <td>6.0</td>\n      <td>...</td>\n      <td>NaN</td>\n      <td>NaN</td>\n      <td>NaN</td>\n      <td>NaN</td>\n      <td>NaN</td>\n      <td>NaN</td>\n      <td>NaN</td>\n      <td>NaN</td>\n      <td>178</td>\n      <td>NaN</td>\n    </tr>\n  </tbody>\n</table>\n<p>5 rows × 293 columns</p>\n</div>"
     },
     "execution_count": 132,
     "metadata": {},
     "output_type": "execute_result"
    }
   ],
   "source": [
    "# Exclude last 5 columns\n",
    "df = df.iloc[:, :-5]\n",
    "df.head()"
   ]
  },
  {
   "cell_type": "code",
   "execution_count": 133,
   "metadata": {},
   "outputs": [
    {
     "data": {
      "text/plain": "  Public Food Key  Classification                      Food Name  \\\n0         F002258         31302.0   Cardamom seed, dried, ground   \n1         F002893         31302.0  Chilli (chili), dried, ground   \n2         F002963         31302.0        Cinnamon, dried, ground   \n3         F002970         31302.0          Cloves, dried, ground   \n4         F003190         31302.0  Coriander seed, dried, ground   \n\n   Energy with dietary fibre, equated \\n(kJ)  \\\n0                                       1236   \n1                                       1280   \n2                                       1004   \n3                                       1389   \n4                                       1344   \n\n   Energy, without dietary fibre, equated \\n(kJ)  Moisture (water) \\n(g)  \\\n0                                           1012                     8.3   \n1                                           1002                    10.8   \n2                                            579                    10.6   \n3                                           1118                     9.9   \n4                                           1009                     8.9   \n\n   Protein \\n(g)  Nitrogen \\n(g)  Fat, total \\n(g)  Ash \\n(g)  ...  \\\n0           10.8            1.72               6.7        5.8  ...   \n1           13.4            2.14              14.3       11.8  ...   \n2            4.0            0.64               1.2        3.6  ...   \n3            6.0            0.96              13.0        5.6  ...   \n4           12.4            1.98              17.8        6.0  ...   \n\n   Leucine \\n(mg)  Lysine \\n(mg)  Methionine \\n(mg)  Phenylalanine \\n(mg)  \\\n0             NaN            NaN                NaN                   NaN   \n1             NaN            NaN                NaN                   NaN   \n2             NaN            NaN                NaN                   NaN   \n3             NaN            NaN                NaN                   NaN   \n4             NaN            NaN                NaN                   NaN   \n\n   Proline \\n(mg)  Serine \\n(mg)  Threonine \\n(mg)  Tyrosine \\n(mg)  \\\n0             NaN            NaN               NaN              NaN   \n1             NaN            NaN               NaN              NaN   \n2             NaN            NaN               NaN              NaN   \n3             NaN            NaN               NaN              NaN   \n4             NaN            NaN               NaN              NaN   \n\n   Tryptophan \\n(mg)  Valine \\n(mg)  \n0                155            NaN  \n1                 69            NaN  \n2                 49            NaN  \n3                 30            NaN  \n4                178            NaN  \n\n[5 rows x 269 columns]",
      "text/html": "<div>\n<style scoped>\n    .dataframe tbody tr th:only-of-type {\n        vertical-align: middle;\n    }\n\n    .dataframe tbody tr th {\n        vertical-align: top;\n    }\n\n    .dataframe thead th {\n        text-align: right;\n    }\n</style>\n<table border=\"1\" class=\"dataframe\">\n  <thead>\n    <tr style=\"text-align: right;\">\n      <th></th>\n      <th>Public Food Key</th>\n      <th>Classification</th>\n      <th>Food Name</th>\n      <th>Energy with dietary fibre, equated \\n(kJ)</th>\n      <th>Energy, without dietary fibre, equated \\n(kJ)</th>\n      <th>Moisture (water) \\n(g)</th>\n      <th>Protein \\n(g)</th>\n      <th>Nitrogen \\n(g)</th>\n      <th>Fat, total \\n(g)</th>\n      <th>Ash \\n(g)</th>\n      <th>...</th>\n      <th>Leucine \\n(mg)</th>\n      <th>Lysine \\n(mg)</th>\n      <th>Methionine \\n(mg)</th>\n      <th>Phenylalanine \\n(mg)</th>\n      <th>Proline \\n(mg)</th>\n      <th>Serine \\n(mg)</th>\n      <th>Threonine \\n(mg)</th>\n      <th>Tyrosine \\n(mg)</th>\n      <th>Tryptophan \\n(mg)</th>\n      <th>Valine \\n(mg)</th>\n    </tr>\n  </thead>\n  <tbody>\n    <tr>\n      <th>0</th>\n      <td>F002258</td>\n      <td>31302.0</td>\n      <td>Cardamom seed, dried, ground</td>\n      <td>1236</td>\n      <td>1012</td>\n      <td>8.3</td>\n      <td>10.8</td>\n      <td>1.72</td>\n      <td>6.7</td>\n      <td>5.8</td>\n      <td>...</td>\n      <td>NaN</td>\n      <td>NaN</td>\n      <td>NaN</td>\n      <td>NaN</td>\n      <td>NaN</td>\n      <td>NaN</td>\n      <td>NaN</td>\n      <td>NaN</td>\n      <td>155</td>\n      <td>NaN</td>\n    </tr>\n    <tr>\n      <th>1</th>\n      <td>F002893</td>\n      <td>31302.0</td>\n      <td>Chilli (chili), dried, ground</td>\n      <td>1280</td>\n      <td>1002</td>\n      <td>10.8</td>\n      <td>13.4</td>\n      <td>2.14</td>\n      <td>14.3</td>\n      <td>11.8</td>\n      <td>...</td>\n      <td>NaN</td>\n      <td>NaN</td>\n      <td>NaN</td>\n      <td>NaN</td>\n      <td>NaN</td>\n      <td>NaN</td>\n      <td>NaN</td>\n      <td>NaN</td>\n      <td>69</td>\n      <td>NaN</td>\n    </tr>\n    <tr>\n      <th>2</th>\n      <td>F002963</td>\n      <td>31302.0</td>\n      <td>Cinnamon, dried, ground</td>\n      <td>1004</td>\n      <td>579</td>\n      <td>10.6</td>\n      <td>4.0</td>\n      <td>0.64</td>\n      <td>1.2</td>\n      <td>3.6</td>\n      <td>...</td>\n      <td>NaN</td>\n      <td>NaN</td>\n      <td>NaN</td>\n      <td>NaN</td>\n      <td>NaN</td>\n      <td>NaN</td>\n      <td>NaN</td>\n      <td>NaN</td>\n      <td>49</td>\n      <td>NaN</td>\n    </tr>\n    <tr>\n      <th>3</th>\n      <td>F002970</td>\n      <td>31302.0</td>\n      <td>Cloves, dried, ground</td>\n      <td>1389</td>\n      <td>1118</td>\n      <td>9.9</td>\n      <td>6.0</td>\n      <td>0.96</td>\n      <td>13.0</td>\n      <td>5.6</td>\n      <td>...</td>\n      <td>NaN</td>\n      <td>NaN</td>\n      <td>NaN</td>\n      <td>NaN</td>\n      <td>NaN</td>\n      <td>NaN</td>\n      <td>NaN</td>\n      <td>NaN</td>\n      <td>30</td>\n      <td>NaN</td>\n    </tr>\n    <tr>\n      <th>4</th>\n      <td>F003190</td>\n      <td>31302.0</td>\n      <td>Coriander seed, dried, ground</td>\n      <td>1344</td>\n      <td>1009</td>\n      <td>8.9</td>\n      <td>12.4</td>\n      <td>1.98</td>\n      <td>17.8</td>\n      <td>6.0</td>\n      <td>...</td>\n      <td>NaN</td>\n      <td>NaN</td>\n      <td>NaN</td>\n      <td>NaN</td>\n      <td>NaN</td>\n      <td>NaN</td>\n      <td>NaN</td>\n      <td>NaN</td>\n      <td>178</td>\n      <td>NaN</td>\n    </tr>\n  </tbody>\n</table>\n<p>5 rows × 269 columns</p>\n</div>"
     },
     "execution_count": 133,
     "metadata": {},
     "output_type": "execute_result"
    }
   ],
   "source": [
    "df.dropna(how='all', axis=1, inplace=True)\n",
    "df.head()"
   ]
  },
  {
   "attachments": {},
   "cell_type": "markdown",
   "metadata": {},
   "source": [
    "### Understanding Missing Data\n",
    "Filtering out the columns with high amount of missing data."
   ]
  },
  {
   "cell_type": "code",
   "execution_count": 134,
   "metadata": {},
   "outputs": [
    {
     "data": {
      "text/plain": "(90, 100]    87\n(80, 90]     27\n(50, 60]     24\n(60, 70]     24\n(30, 40]     20\n(40, 50]      8\n(10, 20]      7\n(70, 80]      7\n(20, 30]      2\n(0, 10]       1\nName: percent_missing, dtype: int64"
     },
     "execution_count": 134,
     "metadata": {},
     "output_type": "execute_result"
    }
   ],
   "source": [
    "percent_missing = df.isnull().sum() * 100 / len(df)\n",
    "missing_value_df = pd.DataFrame({'column_name': df.columns,\n",
    "                                 'percent_missing': percent_missing})\n",
    "\n",
    "bins = range(0, 101, 10)\n",
    "bins = pd.cut(missing_value_df['percent_missing'], bins).value_counts()\n",
    "\n",
    "from matplotlib import pyplot as plt\n",
    "\n",
    "#plt.bar(bins)sdd\n",
    "\n",
    "plt.show()\n",
    "bins"
   ]
  },
  {
   "cell_type": "code",
   "execution_count": 135,
   "outputs": [
    {
     "data": {
      "text/plain": "                         column_name  percent_missing\nSerine \\n(mg)          Serine \\n(mg)        88.799505\nThreonine \\n(mg)    Threonine \\n(mg)        88.799505\nTyrosine \\n(mg)      Tyrosine \\n(mg)        88.799505\nTryptophan \\n(mg)  Tryptophan \\n(mg)         0.000000\nValine \\n(mg)          Valine \\n(mg)        88.799505",
      "text/html": "<div>\n<style scoped>\n    .dataframe tbody tr th:only-of-type {\n        vertical-align: middle;\n    }\n\n    .dataframe tbody tr th {\n        vertical-align: top;\n    }\n\n    .dataframe thead th {\n        text-align: right;\n    }\n</style>\n<table border=\"1\" class=\"dataframe\">\n  <thead>\n    <tr style=\"text-align: right;\">\n      <th></th>\n      <th>column_name</th>\n      <th>percent_missing</th>\n    </tr>\n  </thead>\n  <tbody>\n    <tr>\n      <th>Serine \\n(mg)</th>\n      <td>Serine \\n(mg)</td>\n      <td>88.799505</td>\n    </tr>\n    <tr>\n      <th>Threonine \\n(mg)</th>\n      <td>Threonine \\n(mg)</td>\n      <td>88.799505</td>\n    </tr>\n    <tr>\n      <th>Tyrosine \\n(mg)</th>\n      <td>Tyrosine \\n(mg)</td>\n      <td>88.799505</td>\n    </tr>\n    <tr>\n      <th>Tryptophan \\n(mg)</th>\n      <td>Tryptophan \\n(mg)</td>\n      <td>0.000000</td>\n    </tr>\n    <tr>\n      <th>Valine \\n(mg)</th>\n      <td>Valine \\n(mg)</td>\n      <td>88.799505</td>\n    </tr>\n  </tbody>\n</table>\n</div>"
     },
     "execution_count": 135,
     "metadata": {},
     "output_type": "execute_result"
    }
   ],
   "source": [
    "missing_value_df.sort_values(by='percent_missing')\n",
    "missing_value_df.tail()"
   ],
   "metadata": {
    "collapsed": false
   }
  },
  {
   "cell_type": "code",
   "execution_count": 136,
   "outputs": [
    {
     "data": {
      "text/plain": "Public Food Key                                   0.000000\nClassification                                    0.123762\nFood Name                                         0.000000\nEnergy with dietary fibre, equated \\n(kJ)         0.000000\nEnergy, without dietary fibre, equated \\n(kJ)     0.000000\n                                                   ...    \nSerine \\n(mg)                                    88.799505\nThreonine \\n(mg)                                 88.799505\nTyrosine \\n(mg)                                  88.799505\nTryptophan \\n(mg)                                 0.000000\nValine \\n(mg)                                    88.799505\nLength: 269, dtype: float64"
     },
     "execution_count": 136,
     "metadata": {},
     "output_type": "execute_result"
    }
   ],
   "source": [
    "percent_missing"
   ],
   "metadata": {
    "collapsed": false
   }
  },
  {
   "attachments": {},
   "cell_type": "markdown",
   "metadata": {},
   "source": [
    " Setting threshold of 40% to retain 30 Columns of Data."
   ]
  },
  {
   "cell_type": "code",
   "execution_count": 137,
   "metadata": {},
   "outputs": [
    {
     "name": "stdout",
     "output_type": "stream",
     "text": [
      "63 columns left\n"
     ]
    }
   ],
   "source": [
    "col_to_drop = percent_missing[percent_missing > 1].keys()\n",
    "df = df.drop(col_to_drop, axis=1)\n",
    "# df.head()\n",
    "print(f\"{len(df.columns)} columns left\")"
   ]
  },
  {
   "attachments": {},
   "cell_type": "markdown",
   "metadata": {},
   "source": [
    "### Fill Missing Values"
   ]
  },
  {
   "cell_type": "code",
   "execution_count": 138,
   "outputs": [
    {
     "name": "stderr",
     "output_type": "stream",
     "text": [
      "/var/folders/_7/sr3p02zn35v2xg1fm8dsbz6c0000gn/T/ipykernel_18344/3770483552.py:1: FutureWarning: The default value of numeric_only in DataFrame.mean is deprecated. In a future version, it will default to False. In addition, specifying 'numeric_only=None' is deprecated. Select only valid columns or specify the value of numeric_only to silence this warning.\n",
      "  df.fillna(df.mean(), inplace=True)\n"
     ]
    },
    {
     "data": {
      "text/plain": "Index(['Public Food Key', 'Classification', 'Food Name',\n       'Energy with dietary fibre, equated \\n(kJ)',\n       'Energy, without dietary fibre, equated \\n(kJ)',\n       'Moisture (water) \\n(g)', 'Protein \\n(g)', 'Nitrogen \\n(g)',\n       'Fat, total \\n(g)', 'Ash \\n(g)', 'Total dietary fibre \\n(g)',\n       'Alcohol \\n(g)', 'Total sugars (g)', 'Added sugars (g)',\n       'Free sugars \\n(g)', 'Starch \\n(g)',\n       'Available carbohydrate, without sugar alcohols \\n(g)',\n       'Available carbohydrate, with sugar alcohols \\n(g)',\n       'Calcium (Ca) \\n(mg)', 'Iodine (I) \\n(ug)', 'Iron (Fe) \\n(mg)',\n       'Magnesium (Mg) \\n(mg)', 'Phosphorus (P) \\n(mg)',\n       'Potassium (K) \\n(mg)', 'Selenium (Se) \\n(ug)', 'Sodium (Na) \\n(mg)',\n       'Zinc (Zn) \\n(mg)', 'Retinol (preformed vitamin A) \\n(ug)',\n       'Beta-carotene \\n(ug)',\n       'Beta-carotene equivalents (provitamin A) \\n(ug)',\n       'Vitamin A retinol equivalents \\n(ug)', 'Thiamin (B1) \\n(mg)',\n       'Riboflavin (B2) \\n(mg)', 'Niacin (B3) \\n(mg)',\n       'Niacin derived from tryptophan \\n(mg)',\n       'Niacin derived equivalents \\n(mg)', 'Pyridoxine (B6) \\n(mg)',\n       'Cobalamin (B12) \\n(ug)', 'Folate, natural \\n(ug)', 'Folic acid \\n(ug)',\n       'Total folates \\n(ug)', 'Dietary folate equivalents \\n(ug)',\n       'Vitamin C \\n(mg)', 'Cholecalciferol (D3) \\n(ug)',\n       'Ergocalciferol (D2) \\n(ug)',\n       '25-hydroxy cholecalciferol (25-OH D3) \\n(ug)',\n       '25-hydroxy ergocalciferol (25-OH D2) \\n(ug)',\n       'Vitamin D3 equivalents \\n(ug)', 'Alpha tocopherol \\n(mg)',\n       'Vitamin E \\n(mg)', 'Total saturated fatty acids, equated \\n(g)',\n       'Total monounsaturated fatty acids, equated \\n(g)', 'C18:2w6 (g)',\n       'C18:3w3 (g)', 'C20:5w3 (mg)', 'C22:5w3 (mg)', 'C22:6w3 (mg)',\n       'Total polyunsaturated fatty acids, equated \\n(g)',\n       'Total long chain omega 3 fatty acids, equated \\n(mg)',\n       'Total trans fatty acids, imputed \\n(mg)', 'Caffeine \\n(mg)',\n       'Cholesterol \\n(mg)', 'Tryptophan \\n(mg)'],\n      dtype='object')"
     },
     "execution_count": 138,
     "metadata": {},
     "output_type": "execute_result"
    }
   ],
   "source": [
    "df.fillna(df.mean(), inplace=True)\n",
    "df.columns"
   ],
   "metadata": {
    "collapsed": false
   }
  },
  {
   "cell_type": "markdown",
   "source": [
    "Vitamin D, B12, Omega 3 fatty acids, fibre, (E)"
   ],
   "metadata": {
    "collapsed": false
   }
  },
  {
   "cell_type": "code",
   "execution_count": 138,
   "outputs": [],
   "source": [],
   "metadata": {
    "collapsed": false
   }
  },
  {
   "cell_type": "code",
   "execution_count": 139,
   "metadata": {},
   "outputs": [
    {
     "ename": "SyntaxError",
     "evalue": "cannot assign to literal here. Maybe you meant '==' instead of '='? (493210269.py, line 2)",
     "output_type": "error",
     "traceback": [
      "\u001B[0;36m  Cell \u001B[0;32mIn[139], line 2\u001B[0;36m\u001B[0m\n\u001B[0;31m    2 = 2\u001B[0m\n\u001B[0m    ^\u001B[0m\n\u001B[0;31mSyntaxError\u001B[0m\u001B[0;31m:\u001B[0m cannot assign to literal here. Maybe you meant '==' instead of '='?\n"
     ]
    }
   ],
   "source": [
    "# df.iloc[:,3:] = df.iloc[:,3:].fillna(df.iloc[:,3:].mean())\n",
    "2 = 2"
   ]
  },
  {
   "attachments": {},
   "cell_type": "markdown",
   "metadata": {},
   "source": [
    "### Normalisation - Daksh"
   ]
  },
  {
   "cell_type": "code",
   "execution_count": null,
   "metadata": {},
   "outputs": [],
   "source": [
    "from sklearn.preprocessing import StandardScaler\n",
    "\n",
    "scaler = StandardScaler()\n",
    "\n",
    "df.iloc[:, 3:] = scaler.fit_transform(df.iloc[:, 3:].to_numpy())\n",
    "df.head()"
   ]
  },
  {
   "attachments": {},
   "cell_type": "markdown",
   "metadata": {},
   "source": [
    "### PCA - Daksh"
   ]
  },
  {
   "cell_type": "code",
   "execution_count": null,
   "metadata": {},
   "outputs": [],
   "source": [
    "df.columns[df.isna().any()].tolist()"
   ]
  },
  {
   "cell_type": "code",
   "execution_count": null,
   "metadata": {},
   "outputs": [],
   "source": [
    "from sklearn.decomposition import PCA\n",
    "\n",
    "sklearn_pca = PCA(n_components=2, random_state=69)\n",
    "\n",
    "df_pca = sklearn_pca.fit_transform(df.iloc[:, 3:])\n",
    "df_pca"
   ]
  },
  {
   "cell_type": "code",
   "execution_count": null,
   "metadata": {},
   "outputs": [],
   "source": [
    "import seaborn as sns\n",
    "from matplotlib import pyplot as plt\n",
    "\n",
    "print(sklearn_pca.explained_variance_ratio_)\n",
    "# Visualise the first 2 PCs\n",
    "sns.scatterplot(x=df_pca[:, 0],\n",
    "                y=df_pca[:, 1], )\n",
    "plt.title(\"PCA with 2 components\")\n",
    "plt.xlabel('1st Principal Component')\n",
    "plt.ylabel('2nd Principal Component')\n",
    "plt.show()"
   ]
  }
 ],
 "metadata": {
  "kernelspec": {
   "display_name": "Python 3",
   "language": "python",
   "name": "python3"
  },
  "language_info": {
   "codemirror_mode": {
    "name": "ipython",
    "version": 3
   },
   "file_extension": ".py",
   "mimetype": "text/x-python",
   "name": "python",
   "nbconvert_exporter": "python",
   "pygments_lexer": "ipython3",
   "version": "3.11.2"
  },
  "orig_nbformat": 4
 },
 "nbformat": 4,
 "nbformat_minor": 2
}
